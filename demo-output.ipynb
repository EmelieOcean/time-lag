{
 "cells": [
  {
   "cell_type": "markdown",
   "id": "c6a29764-f39c-431c-8e77-fbc6bfe20f01",
   "metadata": {},
   "source": [
    "# Time-lag correlation\n",
    "\n",
    "The purpose of this notebook is to demonstrate the functionality of `time-lag`.\n",
    "\n",
    "The demo is organised to show\n",
    "\n",
    "- Step 1: The steps of calculating the vertical velocity variance\n",
    "\n",
    "- Step 2: Correlations of vertical velocity variance and atmospheric data\n",
    "\n",
    "Note that when you submit a pull request, you should `clear all outputs` from your python notebook for a cleaner merge.\n"
   ]
  },
  {
   "cell_type": "code",
   "execution_count": 1,
   "id": "6a1920f3",
   "metadata": {
    "execution": {
     "iopub.execute_input": "2025-06-30T12:37:33.253279Z",
     "iopub.status.busy": "2025-06-30T12:37:33.253055Z",
     "iopub.status.idle": "2025-06-30T12:37:35.181224Z",
     "shell.execute_reply": "2025-06-30T12:37:35.180654Z"
    }
   },
   "outputs": [
    {
     "ename": "ModuleNotFoundError",
     "evalue": "No module named 'statsmodels'",
     "output_type": "error",
     "traceback": [
      "\u001b[31m---------------------------------------------------------------------------\u001b[39m",
      "\u001b[31mModuleNotFoundError\u001b[39m                       Traceback (most recent call last)",
      "\u001b[36mCell\u001b[39m\u001b[36m \u001b[39m\u001b[32mIn[1]\u001b[39m\u001b[32m, line 3\u001b[39m\n\u001b[32m      1\u001b[39m \u001b[38;5;28;01mimport\u001b[39;00m\u001b[38;5;250m \u001b[39m\u001b[34;01msys\u001b[39;00m\n\u001b[32m      2\u001b[39m sys.path.append(\u001b[33m'\u001b[39m\u001b[33m../\u001b[39m\u001b[33m'\u001b[39m)\n\u001b[32m----> \u001b[39m\u001b[32m3\u001b[39m \u001b[38;5;28;01mfrom\u001b[39;00m\u001b[38;5;250m \u001b[39m\u001b[34;01mtemplate_project\u001b[39;00m\u001b[38;5;250m \u001b[39m\u001b[38;5;28;01mimport\u001b[39;00m plotters, tools, utilities, writers, readers\n\u001b[32m      4\u001b[39m \u001b[38;5;28;01mimport\u001b[39;00m\u001b[38;5;250m \u001b[39m\u001b[34;01mimportlib\u001b[39;00m\n\u001b[32m      6\u001b[39m \u001b[38;5;28;01mimport\u001b[39;00m\u001b[38;5;250m \u001b[39m\u001b[34;01mpandas\u001b[39;00m\u001b[38;5;250m \u001b[39m\u001b[38;5;28;01mas\u001b[39;00m\u001b[38;5;250m \u001b[39m\u001b[34;01mpd\u001b[39;00m\n",
      "\u001b[36mFile \u001b[39m\u001b[32m~/work/time-lag/time-lag/notebooks/../template_project/tools.py:3\u001b[39m\n\u001b[32m      1\u001b[39m \u001b[38;5;28;01mimport\u001b[39;00m\u001b[38;5;250m \u001b[39m\u001b[34;01mnumpy\u001b[39;00m\u001b[38;5;250m \u001b[39m\u001b[38;5;28;01mas\u001b[39;00m\u001b[38;5;250m \u001b[39m\u001b[34;01mnp\u001b[39;00m \n\u001b[32m      2\u001b[39m \u001b[38;5;28;01mfrom\u001b[39;00m\u001b[38;5;250m \u001b[39m\u001b[34;01mscipy\u001b[39;00m\u001b[34;01m.\u001b[39;00m\u001b[34;01mstats\u001b[39;00m\u001b[38;5;250m \u001b[39m\u001b[38;5;28;01mimport\u001b[39;00m pearsonr, norm, probplot, jarque_bera, shapiro, kstest\n\u001b[32m----> \u001b[39m\u001b[32m3\u001b[39m \u001b[38;5;28;01mimport\u001b[39;00m\u001b[38;5;250m \u001b[39m\u001b[34;01mstatsmodels\u001b[39;00m\u001b[34;01m.\u001b[39;00m\u001b[34;01mapi\u001b[39;00m\u001b[38;5;250m \u001b[39m\u001b[38;5;28;01mas\u001b[39;00m\u001b[38;5;250m \u001b[39m\u001b[34;01msm\u001b[39;00m\n\u001b[32m      4\u001b[39m \u001b[38;5;28;01mimport\u001b[39;00m\u001b[38;5;250m \u001b[39m\u001b[34;01mpandas\u001b[39;00m\u001b[38;5;250m \u001b[39m\u001b[38;5;28;01mas\u001b[39;00m\u001b[38;5;250m \u001b[39m\u001b[34;01mpd\u001b[39;00m\n\u001b[32m      5\u001b[39m \u001b[38;5;28;01mimport\u001b[39;00m\u001b[38;5;250m \u001b[39m\u001b[34;01mxarray\u001b[39;00m\u001b[38;5;250m \u001b[39m\u001b[38;5;28;01mas\u001b[39;00m\u001b[38;5;250m \u001b[39m\u001b[34;01mxr\u001b[39;00m\n",
      "\u001b[31mModuleNotFoundError\u001b[39m: No module named 'statsmodels'"
     ]
    }
   ],
   "source": [
    "import sys\n",
    "sys.path.append('../')\n",
    "from template_project import plotters, tools, utilities, writers, readers\n",
    "import importlib\n",
    "\n",
    "import pandas as pd\n",
    "import numpy as np\n",
    "\n",
    "# After editing your_module_name.py, reload it:\n",
    "importlib.reload(plotters)"
   ]
  },
  {
   "cell_type": "markdown",
   "id": "337898d1",
   "metadata": {},
   "source": [
    "## Load data"
   ]
  },
  {
   "cell_type": "code",
   "execution_count": 2,
   "id": "f6051cc7",
   "metadata": {
    "execution": {
     "iopub.execute_input": "2025-06-30T12:37:35.185421Z",
     "iopub.status.busy": "2025-06-30T12:37:35.184430Z",
     "iopub.status.idle": "2025-06-30T12:37:35.207887Z",
     "shell.execute_reply": "2025-06-30T12:37:35.207362Z"
    }
   },
   "outputs": [
    {
     "ename": "NameError",
     "evalue": "name 'proj' is not defined",
     "output_type": "error",
     "traceback": [
      "\u001b[31m---------------------------------------------------------------------------\u001b[39m",
      "\u001b[31mNameError\u001b[39m                                 Traceback (most recent call last)",
      "\u001b[36mCell\u001b[39m\u001b[36m \u001b[39m\u001b[32mIn[2]\u001b[39m\u001b[32m, line 2\u001b[39m\n\u001b[32m      1\u001b[39m \u001b[38;5;66;03m# Load gliderdata of churchill (containing w, MLD from a density threshold (0.01) and MLD_manually selected)\u001b[39;00m\n\u001b[32m----> \u001b[39m\u001b[32m2\u001b[39m ds                  = \u001b[43mproj\u001b[49m.readers.read_glider(\u001b[33m'\u001b[39m\u001b[33mchurchill\u001b[39m\u001b[33m'\u001b[39m)\n\u001b[32m      3\u001b[39m \u001b[38;5;66;03m# Load ERA5 datasets in the LabSea of years 2021/2022\u001b[39;00m\n\u001b[32m      4\u001b[39m ds_wind, ds_heat    = proj.readers.read_ERA5()\n",
      "\u001b[31mNameError\u001b[39m: name 'proj' is not defined"
     ]
    }
   ],
   "source": [
    "# Load gliderdata of churchill (containing w, MLD from a density threshold (0.01) and MLD_manually selected)\n",
    "ds                  = proj.readers.read_glider('churchill')\n",
    "# Load ERA5 datasets in the LabSea of years 2021/2022\n",
    "ds_wind, ds_heat    = proj.readers.read_ERA5()\n",
    "# Load high pass filtered vertical velocity data from churchill\n",
    "ds_hp               = proj.readers.read_hp_w()"
   ]
  },
  {
   "cell_type": "markdown",
   "id": "2cf85273",
   "metadata": {},
   "source": [
    "## Configuration"
   ]
  },
  {
   "cell_type": "code",
   "execution_count": 3,
   "id": "210d69fb",
   "metadata": {
    "execution": {
     "iopub.execute_input": "2025-06-30T12:37:35.209626Z",
     "iopub.status.busy": "2025-06-30T12:37:35.209448Z",
     "iopub.status.idle": "2025-06-30T12:37:35.235861Z",
     "shell.execute_reply": "2025-06-30T12:37:35.235321Z"
    }
   },
   "outputs": [
    {
     "ename": "NameError",
     "evalue": "name 'ds' is not defined",
     "output_type": "error",
     "traceback": [
      "\u001b[31m---------------------------------------------------------------------------\u001b[39m",
      "\u001b[31mNameError\u001b[39m                                 Traceback (most recent call last)",
      "\u001b[36mCell\u001b[39m\u001b[36m \u001b[39m\u001b[32mIn[3]\u001b[39m\u001b[32m, line 14\u001b[39m\n\u001b[32m      4\u001b[39m resolution = \u001b[32m1\u001b[39m          \u001b[38;5;66;03m# Sampling resolution in seconds (needed to calc the minimum number of observations in a rolling window)\u001b[39;00m\n\u001b[32m      5\u001b[39m glidername= \u001b[33m'\u001b[39m\u001b[33mL1398\u001b[39m\u001b[33m'\u001b[39m     \u001b[38;5;66;03m# Name of the glider\u001b[39;00m\n\u001b[32m      7\u001b[39m config = {\n\u001b[32m      8\u001b[39m     \u001b[33m\"\u001b[39m\u001b[33mrolling_window_outer\u001b[39m\u001b[33m\"\u001b[39m     : \u001b[33mf\u001b[39m\u001b[33m\"\u001b[39m\u001b[38;5;132;01m{\u001b[39;00mouter_window_min\u001b[38;5;132;01m}\u001b[39;00m\u001b[33mmin\u001b[39m\u001b[33m\"\u001b[39m,           \u001b[38;5;66;03m# 6H choosen by Steffen\u001b[39;00m\n\u001b[32m      9\u001b[39m     \u001b[33m\"\u001b[39m\u001b[33mrolling_window_inner\u001b[39m\u001b[33m\"\u001b[39m     : \u001b[33mf\u001b[39m\u001b[33m\"\u001b[39m\u001b[38;5;132;01m{\u001b[39;00minner_window_min\u001b[38;5;132;01m}\u001b[39;00m\u001b[33mmin\u001b[39m\u001b[33m\"\u001b[39m,           \u001b[38;5;66;03m# 1H, choosen by steffen's\u001b[39;00m\n\u001b[32m     10\u001b[39m     \u001b[33m\"\u001b[39m\u001b[33mrolling_min_periods_outer\u001b[39m\u001b[33m\"\u001b[39m: \u001b[38;5;28mint\u001b[39m(outer_window_min*min_perc*\u001b[32m60\u001b[39m),  \u001b[38;5;66;03m# Minimum number of observations within the outer rolling window (data before: in hours or see inner window)\u001b[39;00m\n\u001b[32m     11\u001b[39m     \u001b[33m\"\u001b[39m\u001b[33mrolling_min_periods_inner\u001b[39m\u001b[33m\"\u001b[39m: \u001b[38;5;28mint\u001b[39m((inner_window_min/\u001b[32m60\u001b[39m)*(\u001b[32m3600\u001b[39m*\u001b[32m1\u001b[39m/resolution)*min_perc),  \u001b[38;5;66;03m# Minimum number of observations within the inner rolling window (data before: in seconds or see most common time difference)\u001b[39;00m\n\u001b[32m     12\u001b[39m \n\u001b[32m     13\u001b[39m     \u001b[33m\"\u001b[39m\u001b[33mvar\u001b[39m\u001b[33m\"\u001b[39m               : \u001b[33m'\u001b[39m\u001b[33mw\u001b[39m\u001b[33m'\u001b[39m,\n\u001b[32m---> \u001b[39m\u001b[32m14\u001b[39m     \u001b[33m\"\u001b[39m\u001b[33mdata_in\u001b[39m\u001b[33m\"\u001b[39m           : \u001b[43mds\u001b[49m, \n\u001b[32m     15\u001b[39m     \u001b[33m\"\u001b[39m\u001b[33mdata_wind\u001b[39m\u001b[33m\"\u001b[39m         : ds_wind,\n\u001b[32m     16\u001b[39m     \u001b[33m\"\u001b[39m\u001b[33mdata_heat\u001b[39m\u001b[33m\"\u001b[39m         : ds_heat,\n\u001b[32m     17\u001b[39m     \u001b[33m\"\u001b[39m\u001b[33mstart_time\u001b[39m\u001b[33m\"\u001b[39m        : pd.to_datetime(\u001b[33m'\u001b[39m\u001b[33m2022-03-07T00:00:00\u001b[39m\u001b[33m'\u001b[39m), \n\u001b[32m     18\u001b[39m     \u001b[33m\"\u001b[39m\u001b[33mend_time\u001b[39m\u001b[33m\"\u001b[39m          : pd.to_datetime(\u001b[33m'\u001b[39m\u001b[33m2022-03-15T00:00:00\u001b[39m\u001b[33m'\u001b[39m), \n\u001b[32m     19\u001b[39m     \u001b[33m\"\u001b[39m\u001b[33minterp_method\u001b[39m\u001b[33m\"\u001b[39m     : \u001b[33m\"\u001b[39m\u001b[33mlinear\u001b[39m\u001b[33m\"\u001b[39m,\n\u001b[32m     20\u001b[39m     \u001b[33m\"\u001b[39m\u001b[33mdepth_min\u001b[39m\u001b[33m\"\u001b[39m         : \u001b[32m50\u001b[39m,  \u001b[38;5;66;03m# Drop upper 50m (wave effects, etc.)\u001b[39;00m\n\u001b[32m     21\u001b[39m     \u001b[33m\"\u001b[39m\u001b[33mmax_lag\u001b[39m\u001b[33m\"\u001b[39m           : \u001b[32m24\u001b[39m * \u001b[32m3\u001b[39m,\n\u001b[32m     22\u001b[39m     \u001b[33m\"\u001b[39m\u001b[33mfreq\u001b[39m\u001b[33m\"\u001b[39m              : \u001b[33m'\u001b[39m\u001b[33mH\u001b[39m\u001b[33m'\u001b[39m,\n\u001b[32m     23\u001b[39m     \u001b[33m\"\u001b[39m\u001b[33madd_ext_interp\u001b[39m\u001b[33m\"\u001b[39m    : \u001b[38;5;28;01mFalse\u001b[39;00m, \u001b[38;5;66;03m#True,\u001b[39;00m\n\u001b[32m     24\u001b[39m     \u001b[33m\"\u001b[39m\u001b[33mvariables_to_keep\u001b[39m\u001b[33m\"\u001b[39m : [\u001b[33m'\u001b[39m\u001b[33msalinity\u001b[39m\u001b[33m'\u001b[39m, \u001b[33m'\u001b[39m\u001b[33mtemperature\u001b[39m\u001b[33m'\u001b[39m, \u001b[33m'\u001b[39m\u001b[33mdensity\u001b[39m\u001b[33m'\u001b[39m, \u001b[33m'\u001b[39m\u001b[33mdepth\u001b[39m\u001b[33m'\u001b[39m, \u001b[33m'\u001b[39m\u001b[33mlatitude\u001b[39m\u001b[33m'\u001b[39m, \u001b[33m'\u001b[39m\u001b[33mlongitude\u001b[39m\u001b[33m'\u001b[39m, \u001b[33m'\u001b[39m\u001b[33mtime\u001b[39m\u001b[33m'\u001b[39m, \u001b[33m'\u001b[39m\u001b[33mMLD\u001b[39m\u001b[33m'\u001b[39m, \u001b[33m'\u001b[39m\u001b[33mw\u001b[39m\u001b[33m'\u001b[39m, \u001b[33m'\u001b[39m\u001b[33mprofile_direction\u001b[39m\u001b[33m'\u001b[39m, \u001b[33m'\u001b[39m\u001b[33mMLD_manual\u001b[39m\u001b[33m'\u001b[39m, \u001b[33m'\u001b[39m\u001b[33mprofile_index\u001b[39m\u001b[33m'\u001b[39m], \u001b[38;5;66;03m#if None it keeps the standard variables\u001b[39;00m\n\u001b[32m     25\u001b[39m }\n\u001b[32m     26\u001b[39m \u001b[38;5;66;03m# Preprocess data\u001b[39;00m\n\u001b[32m     27\u001b[39m ds_398                                                          = proj.tools.preprocess_data(config)\n",
      "\u001b[31mNameError\u001b[39m: name 'ds' is not defined"
     ]
    }
   ],
   "source": [
    "\n",
    "min_perc = 0.3          # Minimum percentage of data within the rolling window at most common resolution\n",
    "outer_window_min = 60*6 # Outer window size in minutes\n",
    "inner_window_min = 5    # Inner window size in minutes\n",
    "resolution = 1          # Sampling resolution in seconds (needed to calc the minimum number of observations in a rolling window)\n",
    "glidername= 'L1398'     # Name of the glider\n",
    "\n",
    "config = {\n",
    "    \"rolling_window_outer\"     : f\"{outer_window_min}min\",           # 6H choosen by Steffen\n",
    "    \"rolling_window_inner\"     : f\"{inner_window_min}min\",           # 1H, choosen by steffen's\n",
    "    \"rolling_min_periods_outer\": int(outer_window_min*min_perc*60),  # Minimum number of observations within the outer rolling window (data before: in hours or see inner window)\n",
    "    \"rolling_min_periods_inner\": int((inner_window_min/60)*(3600*1/resolution)*min_perc),  # Minimum number of observations within the inner rolling window (data before: in seconds or see most common time difference)\n",
    "    \n",
    "    \"var\"               : 'w',\n",
    "    \"data_in\"           : ds, \n",
    "    \"data_wind\"         : ds_wind,\n",
    "    \"data_heat\"         : ds_heat,\n",
    "    \"start_time\"        : pd.to_datetime('2022-03-07T00:00:00'), \n",
    "    \"end_time\"          : pd.to_datetime('2022-03-15T00:00:00'), \n",
    "    \"interp_method\"     : \"linear\",\n",
    "    \"depth_min\"         : 50,  # Drop upper 50m (wave effects, etc.)\n",
    "    \"max_lag\"           : 24 * 3,\n",
    "    \"freq\"              : 'H',\n",
    "    \"add_ext_interp\"    : False, #True,\n",
    "    \"variables_to_keep\" : ['salinity', 'temperature', 'density', 'depth', 'latitude', 'longitude', 'time', 'MLD', 'w', 'profile_direction', 'MLD_manual', 'profile_index'], #if None it keeps the standard variables\n",
    "}\n",
    "# Preprocess data\n",
    "ds_398                                                          = proj.tools.preprocess_data(config)\n",
    "# Interpolate ERA5 onto hourly positions of the glider\n",
    "resample_time, series_wind, series_heat                         = proj.tools.interpolate_onto_track(ds_398, config)\n",
    "\n",
    "# Calculate vertical velocity variance\n",
    "mld_var = 'MLD_manual' #or 'MLD'\n",
    "series_w_prime, gap_mask, intermediates                         = proj.tools.get_wprime_timeseries_update_3(resample_time,ds_398, config, debug=True, mld_var=mld_var) # max_gap_duration=np.timedelta64(1, \"h\"),\n",
    "# Calculate vertical velocity variance masking just before the interpolation (thus including more values from outside the ML)\n",
    "series_w_prime_masklater, _ , intermediates_mask_later          = proj.tools.get_wprime_timeseries_update_2(resample_time,ds_398, config, debug=True, mld_var=mld_var)\n",
    "# Calculate vertical velocity variance without any masking\n",
    "wprime_rms                                                      = proj.tools.calculate_wprime(ds_398, config, return_mask=False)"
   ]
  },
  {
   "cell_type": "markdown",
   "id": "cfdfda65",
   "metadata": {},
   "source": [
    "## Plot steps of calculating the vertical water velocity variance\n",
    "1) Plot which part of the mixed layer gets masked\n",
    "2) Plot the corresponding vertical velocity data with the same masks\n",
    "3) Plot w' = (w - <w>) with <>: inner window\n",
    "4) Plot final vertical velocity variance w'rms = sqrt(<(w')^2>) with <>: outer window.\n",
    "#\n",
    "Red diamonds: also include here the alternative where we calculate sqrt(<(w')^2>) right at the start and then mask (this contains some signal from outside the ML).\n",
    "#\n",
    "Blue line: if ds_hp is provided also plot the highpass filtered vertical velocity as reference (here 70m cutoff)"
   ]
  },
  {
   "cell_type": "code",
   "execution_count": 4,
   "id": "b2ba65d5",
   "metadata": {
    "execution": {
     "iopub.execute_input": "2025-06-30T12:37:35.238368Z",
     "iopub.status.busy": "2025-06-30T12:37:35.238192Z",
     "iopub.status.idle": "2025-06-30T12:37:35.265769Z",
     "shell.execute_reply": "2025-06-30T12:37:35.265236Z"
    }
   },
   "outputs": [
    {
     "ename": "NameError",
     "evalue": "name 'ds_hp' is not defined",
     "output_type": "error",
     "traceback": [
      "\u001b[31m---------------------------------------------------------------------------\u001b[39m",
      "\u001b[31mNameError\u001b[39m                                 Traceback (most recent call last)",
      "\u001b[36mCell\u001b[39m\u001b[36m \u001b[39m\u001b[32mIn[4]\u001b[39m\u001b[32m, line 1\u001b[39m\n\u001b[32m----> \u001b[39m\u001b[32m1\u001b[39m ds_hp_sel = \u001b[43mds_hp\u001b[49m.isel({\u001b[33m'\u001b[39m\u001b[33mprofile_index\u001b[39m\u001b[33m'\u001b[39m : (ds_hp[\u001b[33m'\u001b[39m\u001b[33mmid_times\u001b[39m\u001b[33m'\u001b[39m] >= config[\u001b[33m'\u001b[39m\u001b[33mstart_time\u001b[39m\u001b[33m'\u001b[39m]) & (ds_hp[\u001b[33m'\u001b[39m\u001b[33mmid_times\u001b[39m\u001b[33m'\u001b[39m] <= config[\u001b[33m'\u001b[39m\u001b[33mend_time\u001b[39m\u001b[33m'\u001b[39m])}, drop=\u001b[38;5;28;01mTrue\u001b[39;00m)\n\u001b[32m      2\u001b[39m fig, ax = proj.plotters.plot_lag_correlation_steps(intermediates, ds_398, \n\u001b[32m      3\u001b[39m                                                    wprime_rms=wprime_rms, \n\u001b[32m      4\u001b[39m                                                    series_2 = series_w_prime_masklater, \n\u001b[32m      5\u001b[39m                                                    ds_hp = ds_hp_sel,\n\u001b[32m      6\u001b[39m                                                    mld_var=[\u001b[33m'\u001b[39m\u001b[33mMLD_manual\u001b[39m\u001b[33m'\u001b[39m,\u001b[33m'\u001b[39m\u001b[33mMLD\u001b[39m\u001b[33m'\u001b[39m])\n\u001b[32m      7\u001b[39m \u001b[38;5;66;03m# Set x limit to zoom in\u001b[39;00m\n\u001b[32m      8\u001b[39m \u001b[38;5;66;03m#ax[0].set_xlim(config['start_time'], config['end_time'])\u001b[39;00m\n\u001b[32m      9\u001b[39m \u001b[38;5;66;03m# ax[0].set_xlim(pd.to_datetime('2022-03-05T00:00:00'), pd.to_datetime('2022-03-15T00:00:00'))\u001b[39;00m\n",
      "\u001b[31mNameError\u001b[39m: name 'ds_hp' is not defined"
     ]
    }
   ],
   "source": [
    "ds_hp_sel = ds_hp.isel({'profile_index' : (ds_hp['mid_times'] >= config['start_time']) & (ds_hp['mid_times'] <= config['end_time'])}, drop=True)\n",
    "fig, ax = proj.plotters.plot_lag_correlation_steps(intermediates, ds_398, \n",
    "                                                   wprime_rms=wprime_rms, \n",
    "                                                   series_2 = series_w_prime_masklater, \n",
    "                                                   ds_hp = ds_hp_sel,\n",
    "                                                   mld_var=['MLD_manual','MLD'])\n",
    "# Set x limit to zoom in\n",
    "#ax[0].set_xlim(config['start_time'], config['end_time'])\n",
    "# ax[0].set_xlim(pd.to_datetime('2022-03-05T00:00:00'), pd.to_datetime('2022-03-15T00:00:00'))"
   ]
  },
  {
   "cell_type": "markdown",
   "id": "ccd16776",
   "metadata": {},
   "source": [
    "## Calculate & Plot time-lag correlations"
   ]
  },
  {
   "cell_type": "code",
   "execution_count": 5,
   "id": "b5b9ebbe",
   "metadata": {
    "execution": {
     "iopub.execute_input": "2025-06-30T12:37:35.267445Z",
     "iopub.status.busy": "2025-06-30T12:37:35.267278Z",
     "iopub.status.idle": "2025-06-30T12:37:35.286530Z",
     "shell.execute_reply": "2025-06-30T12:37:35.286020Z"
    }
   },
   "outputs": [
    {
     "ename": "NameError",
     "evalue": "name 'proj' is not defined",
     "output_type": "error",
     "traceback": [
      "\u001b[31m---------------------------------------------------------------------------\u001b[39m",
      "\u001b[31mNameError\u001b[39m                                 Traceback (most recent call last)",
      "\u001b[36mCell\u001b[39m\u001b[36m \u001b[39m\u001b[32mIn[5]\u001b[39m\u001b[32m, line 1\u001b[39m\n\u001b[32m----> \u001b[39m\u001b[32m1\u001b[39m lags_heat, corrs_heat       = \u001b[43mproj\u001b[49m.tools.lag_correlation(series_w_prime, series_heat, max_lag=config[\u001b[33m'\u001b[39m\u001b[33mmax_lag\u001b[39m\u001b[33m'\u001b[39m])\n\u001b[32m      2\u001b[39m lags_wind, corrs_wind       = proj.tools.lag_correlation(series_w_prime, series_wind, max_lag=config[\u001b[33m'\u001b[39m\u001b[33mmax_lag\u001b[39m\u001b[33m'\u001b[39m])\n\u001b[32m      3\u001b[39m \u001b[38;5;66;03m# Plot the correlation\u001b[39;00m\n",
      "\u001b[31mNameError\u001b[39m: name 'proj' is not defined"
     ]
    }
   ],
   "source": [
    "lags_heat, corrs_heat       = proj.tools.lag_correlation(series_w_prime, series_heat, max_lag=config['max_lag'])\n",
    "lags_wind, corrs_wind       = proj.tools.lag_correlation(series_w_prime, series_wind, max_lag=config['max_lag'])\n",
    "# Plot the correlation\n",
    "corr_dict2 = {'lags':            [lags_wind, lags_heat], \n",
    "             'correlations':     [corrs_wind, corrs_heat],\n",
    "             'labels':           ['wind speed', 'heat flux'],}\n",
    "plot_dict2 = {'ylim':(-0.2,1), 'colors': ['grey','orange'], 'xlim': [-24*3, 24*3]}\n",
    "fig, ax = proj.plotters.plot_corr(corr_dict2, plot_dict2)"
   ]
  },
  {
   "cell_type": "markdown",
   "id": "0f57a801",
   "metadata": {},
   "source": [
    "## Plot time series against each other"
   ]
  },
  {
   "cell_type": "code",
   "execution_count": 6,
   "id": "38fe681f",
   "metadata": {
    "execution": {
     "iopub.execute_input": "2025-06-30T12:37:35.288175Z",
     "iopub.status.busy": "2025-06-30T12:37:35.287999Z",
     "iopub.status.idle": "2025-06-30T12:37:35.304151Z",
     "shell.execute_reply": "2025-06-30T12:37:35.303629Z"
    }
   },
   "outputs": [
    {
     "ename": "NameError",
     "evalue": "name 'proj' is not defined",
     "output_type": "error",
     "traceback": [
      "\u001b[31m---------------------------------------------------------------------------\u001b[39m",
      "\u001b[31mNameError\u001b[39m                                 Traceback (most recent call last)",
      "\u001b[36mCell\u001b[39m\u001b[36m \u001b[39m\u001b[32mIn[6]\u001b[39m\u001b[32m, line 1\u001b[39m\n\u001b[32m----> \u001b[39m\u001b[32m1\u001b[39m fig, ax = \u001b[43mproj\u001b[49m.plotters.plot_series_timelag(series_w_prime, series_heat, series_wind)\n",
      "\u001b[31mNameError\u001b[39m: name 'proj' is not defined"
     ]
    }
   ],
   "source": [
    "fig, ax = proj.plotters.plot_series_timelag(series_w_prime, series_heat, series_wind)"
   ]
  },
  {
   "cell_type": "code",
   "execution_count": null,
   "id": "edaef46b",
   "metadata": {},
   "outputs": [],
   "source": []
  }
 ],
 "metadata": {
  "kernelspec": {
   "display_name": "Python 3",
   "language": "python",
   "name": "python3"
  },
  "language_info": {
   "codemirror_mode": {
    "name": "ipython",
    "version": 3
   },
   "file_extension": ".py",
   "mimetype": "text/x-python",
   "name": "python",
   "nbconvert_exporter": "python",
   "pygments_lexer": "ipython3",
   "version": "3.13.5"
  }
 },
 "nbformat": 4,
 "nbformat_minor": 5
}
