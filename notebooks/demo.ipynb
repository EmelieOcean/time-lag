{
 "cells": [
  {
   "cell_type": "markdown",
   "id": "c6a29764-f39c-431c-8e77-fbc6bfe20f01",
   "metadata": {},
   "source": [
    "# Time-lag correlation\n",
    "\n",
    "The purpose of this notebook is to demonstrate the functionality of `time-lag`.\n",
    "\n",
    "The demo is organised to show\n",
    "\n",
    "- Step 1: The steps of calculating the vertical velocity variance\n",
    "\n",
    "- Step 2: Correlations of vertical velocity variance and atmospheric data\n",
    "\n",
    "Note that when you submit a pull request, you should `clear all outputs` from your python notebook for a cleaner merge.\n"
   ]
  },
  {
   "cell_type": "code",
   "execution_count": null,
   "id": "6a1920f3",
   "metadata": {},
   "outputs": [],
   "source": [
    "import sys\n",
    "sys.path.append('../')\n",
    "from template_project import plotters, tools, utilities, writers, readers\n",
    "import importlib\n",
    "\n",
    "import pandas as pd\n",
    "import numpy as np\n",
    "\n",
    "# After editing your_module_name.py, reload it:\n",
    "importlib.reload(plotters)"
   ]
  },
  {
   "cell_type": "markdown",
   "id": "337898d1",
   "metadata": {},
   "source": [
    "## Load data"
   ]
  },
  {
   "cell_type": "code",
   "execution_count": null,
   "id": "f6051cc7",
   "metadata": {},
   "outputs": [],
   "source": [
    "# Load gliderdata of churchill (containing w, MLD from a density threshold (0.01) and MLD_manually selected)\n",
    "ds                  = readers.read_glider('churchill')\n",
    "# Load ERA5 datasets in the LabSea of years 2021/2022\n",
    "ds_wind, ds_heat    = readers.read_ERA5()\n",
    "# Load high pass filtered vertical velocity data from churchill\n",
    "ds_hp               = readers.read_hp_w()"
   ]
  },
  {
   "cell_type": "markdown",
   "id": "2cf85273",
   "metadata": {},
   "source": [
    "## Configuration"
   ]
  },
  {
   "cell_type": "code",
   "execution_count": null,
   "id": "210d69fb",
   "metadata": {},
   "outputs": [],
   "source": [
    "\n",
    "min_perc = 0.3          # Minimum percentage of data within the rolling window at most common resolution\n",
    "outer_window_min = 60*6 # Outer window size in minutes\n",
    "inner_window_min = 5    # Inner window size in minutes\n",
    "resolution = 1          # Sampling resolution in seconds (needed to calc the minimum number of observations in a rolling window)\n",
    "glidername= 'L1398'     # Name of the glider\n",
    "\n",
    "config = {\n",
    "    \"rolling_window_outer\"     : f\"{outer_window_min}min\",           # 6H choosen by Steffen\n",
    "    \"rolling_window_inner\"     : f\"{inner_window_min}min\",           # 1H, choosen by steffen's\n",
    "    \"rolling_min_periods_outer\": int(outer_window_min*min_perc*60),  # Minimum number of observations within the outer rolling window (data before: in hours or see inner window)\n",
    "    \"rolling_min_periods_inner\": int((inner_window_min/60)*(3600*1/resolution)*min_perc),  # Minimum number of observations within the inner rolling window (data before: in seconds or see most common time difference)\n",
    "    \n",
    "    \"var\"               : 'w',\n",
    "    \"data_in\"           : ds, \n",
    "    \"data_wind\"         : ds_wind,\n",
    "    \"data_heat\"         : ds_heat,\n",
    "    \"start_time\"        : pd.to_datetime('2022-03-07T00:00:00'), \n",
    "    \"end_time\"          : pd.to_datetime('2022-03-15T00:00:00'), \n",
    "    \"interp_method\"     : \"linear\",\n",
    "    \"depth_min\"         : 50,  # Drop upper 50m (wave effects, etc.)\n",
    "    \"max_lag\"           : 24 * 3,\n",
    "    \"freq\"              : 'H',\n",
    "    \"add_ext_interp\"    : False, #True,\n",
    "    \"variables_to_keep\" : ['salinity', 'temperature', 'density', 'depth', 'latitude', 'longitude', 'time', 'MLD', 'w', 'profile_direction', 'MLD_manual', 'profile_index'], #if None it keeps the standard variables\n",
    "}\n",
    "# Preprocess data\n",
    "ds_398                                                          = tools.preprocess_data(config)\n",
    "# Interpolate ERA5 onto hourly positions of the glider\n",
    "resample_time, series_wind, series_heat                         = tools.interpolate_onto_track(ds_398, config)\n",
    "\n",
    "# Calculate vertical velocity variance\n",
    "mld_var = 'MLD_manual' #or 'MLD'\n",
    "series_w_prime, gap_mask, intermediates                         = tools.get_wprime_timeseries_update_3(resample_time,ds_398, config, debug=True, mld_var=mld_var) # max_gap_duration=np.timedelta64(1, \"h\"),\n",
    "# Calculate vertical velocity variance masking just before the interpolation (thus including more values from outside the ML)\n",
    "series_w_prime_masklater, _ , intermediates_mask_later          = tools.get_wprime_timeseries_update_2(resample_time,ds_398, config, debug=True, mld_var=mld_var)\n",
    "# Calculate vertical velocity variance without any masking\n",
    "wprime_rms                                                      = tools.calculate_wprime(ds_398, config, return_mask=False)"
   ]
  },
  {
   "cell_type": "markdown",
   "id": "cfdfda65",
   "metadata": {},
   "source": [
    "## Plot steps of calculating the vertical water velocity variance\n",
    "1) Plot which part of the mixed layer gets masked\n",
    "2) Plot the corresponding vertical velocity data with the same masks\n",
    "3) Plot w' = (w - <w>) with <>: inner window\n",
    "4) Plot final vertical velocity variance w'rms = sqrt(<(w')^2>) with <>: outer window.\n",
    "#\n",
    "Red diamonds: also include here the alternative where we calculate sqrt(<(w')^2>) right at the start and then mask (this contains some signal from outside the ML).\n",
    "#\n",
    "Blue line: if ds_hp is provided also plot the highpass filtered vertical velocity as reference (here 70m cutoff)"
   ]
  },
  {
   "cell_type": "code",
   "execution_count": null,
   "id": "b2ba65d5",
   "metadata": {},
   "outputs": [],
   "source": [
    "ds_hp_sel = ds_hp.isel({'profile_index' : (ds_hp['mid_times'] >= config['start_time']) & (ds_hp['mid_times'] <= config['end_time'])}, drop=True)\n",
    "fig, ax = plotters.plot_lag_correlation_steps(intermediates, ds_398, \n",
    "                                                   wprime_rms=wprime_rms, \n",
    "                                                   series_2 = series_w_prime_masklater, \n",
    "                                                   ds_hp = ds_hp_sel,\n",
    "                                                   mld_var=['MLD_manual','MLD'])\n",
    "# Set x limit to zoom in\n",
    "#ax[0].set_xlim(config['start_time'], config['end_time'])\n",
    "# ax[0].set_xlim(pd.to_datetime('2022-03-05T00:00:00'), pd.to_datetime('2022-03-15T00:00:00'))"
   ]
  },
  {
   "cell_type": "markdown",
   "id": "ccd16776",
   "metadata": {},
   "source": [
    "## Calculate & Plot time-lag correlations"
   ]
  },
  {
   "cell_type": "code",
   "execution_count": null,
   "id": "b5b9ebbe",
   "metadata": {},
   "outputs": [],
   "source": [
    "lags_heat, corrs_heat       = tools.lag_correlation(series_w_prime, series_heat, max_lag=config['max_lag'])\n",
    "lags_wind, corrs_wind       = tools.lag_correlation(series_w_prime, series_wind, max_lag=config['max_lag'])\n",
    "# Plot the correlation\n",
    "corr_dict2 = {'lags':            [lags_wind, lags_heat], \n",
    "             'correlations':     [corrs_wind, corrs_heat],\n",
    "             'labels':           ['wind speed', 'heat flux'],}\n",
    "plot_dict2 = {'ylim':(-0.2,1), 'colors': ['grey','orange'], 'xlim': [-24*3, 24*3]}\n",
    "fig, ax = plotters.plot_corr(corr_dict2, plot_dict2)"
   ]
  },
  {
   "cell_type": "markdown",
   "id": "0f57a801",
   "metadata": {},
   "source": [
    "## Plot time series against each other"
   ]
  },
  {
   "cell_type": "code",
   "execution_count": null,
   "id": "38fe681f",
   "metadata": {},
   "outputs": [],
   "source": [
    "fig, ax = plotters.plot_series_timelag(series_w_prime, series_heat, series_wind)"
   ]
  },
  {
   "cell_type": "code",
   "execution_count": null,
   "id": "edaef46b",
   "metadata": {},
   "outputs": [],
   "source": []
  }
 ],
 "metadata": {
  "kernelspec": {
   "display_name": "Python 3",
   "language": "python",
   "name": "python3"
  },
  "language_info": {
   "codemirror_mode": {
    "name": "ipython",
    "version": 3
   },
   "file_extension": ".py",
   "mimetype": "text/x-python",
   "name": "python",
   "nbconvert_exporter": "python",
   "pygments_lexer": "ipython3",
   "version": "3.12.1"
  }
 },
 "nbformat": 4,
 "nbformat_minor": 5
}
